{
 "cells": [
  {
   "cell_type": "code",
   "execution_count": null,
   "id": "dd547f26",
   "metadata": {},
   "outputs": [],
   "source": [
    "import smtplib\n",
    "import ssl\n",
    "from email.message import EmailMessage\n",
    "\n",
    "#Let's create code for the sender, recipient, subject, and  body\n",
    "\n",
    "subject = \"Email From Python\"\n",
    "body = \"This is a test email from Python!\"\n",
    "#Using a fake sender email account for Github. You will need to add a legit email in order to test / successfully run this code.\n",
    "sender_email = \"DummmySender@gmail.com\"\n",
    "#Using a fake recipient email account for Github. You will need to add a legit email in order to test / successfully run this code.\n",
    "recipient_email = \"DummmyRecipient@gmail.com\"\n",
    "password = input(\"Enter Your Password: \")\n",
    "\n",
    "#Now let's build the email\n",
    "message = EmailMessage()\n",
    "message['From'] = sender_email\n",
    "message['To'] = recipient_email\n",
    "message['Subject'] = subject\n",
    "#Now we are going set the content (Body) of the email.\n",
    "message.set_content(body)\n",
    "\n",
    "#When you connect to Gmail you'll need a secure connection. The code below will give you content for secure connection when using the smtp library and connecting to the Gmail server.\n",
    "#ssl will conect you to the appropriate server.\n",
    "context = ssl.create_default_context()\n",
    "\n",
    "#465 is the port for connection\n",
    "with smtplib.SMPT_SSL(smpt.gmail.com, 465, context = context) as server:\n",
    "    "
   ]
  }
 ],
 "metadata": {
  "kernelspec": {
   "display_name": "Python 3 (ipykernel)",
   "language": "python",
   "name": "python3"
  },
  "language_info": {
   "codemirror_mode": {
    "name": "ipython",
    "version": 3
   },
   "file_extension": ".py",
   "mimetype": "text/x-python",
   "name": "python",
   "nbconvert_exporter": "python",
   "pygments_lexer": "ipython3",
   "version": "3.9.7"
  }
 },
 "nbformat": 4,
 "nbformat_minor": 5
}
